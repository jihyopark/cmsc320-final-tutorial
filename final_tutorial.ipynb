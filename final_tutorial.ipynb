{
 "cells": [
  {
   "cell_type": "code",
   "execution_count": 14,
   "metadata": {},
   "outputs": [],
   "source": [
    "import requests # type: ignore\n",
    "import pandas as pd # type: ignore\n",
    "import numpy as np # type: ignore\n",
    "import json"
   ]
  },
  {
   "cell_type": "code",
   "execution_count": 15,
   "metadata": {},
   "outputs": [],
   "source": [
    "# cmsc_data = requests.get(f\"https://planetterp.com/api/v1/courses?department=CMSC\").json()\n",
    "# with open('cmsc_data.json', 'w') as f:\n",
    "#     json.dump(cmsc_data, f)"
   ]
  },
  {
   "cell_type": "code",
   "execution_count": 16,
   "metadata": {},
   "outputs": [
    {
     "name": "stdout",
     "output_type": "stream",
     "text": [
      "2.9276091270621403\n",
      "    average_gpa department course_number      name  credits\n",
      "2      3.496197       CMSC           100   CMSC100      1.0\n",
      "39     2.397251       CMSC           106   CMSC106      4.0\n",
      "16     2.527072       CMSC           122   CMSC122      3.0\n",
      "40     2.487990       CMSC           131   CMSC131      4.0\n",
      "41     2.602482       CMSC           132   CMSC132      4.0\n",
      "88     3.365746       CMSC          132H  CMSC132H      4.0\n",
      "8      3.152688       CMSC          198C  CMSC198C      NaN\n",
      "9      2.651282       CMSC          198D  CMSC198D      1.0\n",
      "10     0.800000       CMSC          198E  CMSC198E      1.0\n",
      "4      2.471644       CMSC           216   CMSC216      4.0\n",
      "11     2.668913       CMSC           250   CMSC250      4.0\n",
      "48     3.448966       CMSC          250H  CMSC250H      4.0\n",
      "23     2.946301       CMSC          289I  CMSC289I      3.0\n",
      "76     2.700000       CMSC          289J  CMSC289J      NaN\n",
      "71     3.388555       CMSC           320   CMSC320      3.0\n",
      "5      2.790153       CMSC           330   CMSC330      3.0\n",
      "12     2.468578       CMSC           351   CMSC351      3.0\n",
      "52     2.788889       CMSC          389B  CMSC389B      1.0\n",
      "54     2.963158       CMSC          389J  CMSC389J      1.0\n",
      "86     3.226063       CMSC          389N  CMSC389N      3.0\n",
      "55     3.785333       CMSC          389P  CMSC389P      1.0\n",
      "56     3.556989       CMSC          389T  CMSC389T      1.0\n",
      "47     3.808686       CMSC          396H  CMSC396H      1.0\n",
      "33     2.870419       CMSC           411   CMSC411      3.0\n",
      "38     2.482156       CMSC           412   CMSC412      4.0\n",
      "35     2.878817       CMSC           414   CMSC414      3.0\n",
      "7      2.346572       CMSC           417   CMSC417      3.0\n",
      "34     2.995330       CMSC           420   CMSC420      3.0\n",
      "13     3.095789       CMSC           421   CMSC421      3.0\n",
      "18     3.136197       CMSC           422   CMSC422      3.0\n",
      "20     2.966745       CMSC           423   CMSC423      3.0\n",
      "1      2.674547       CMSC           424   CMSC424      3.0\n",
      "67     3.225558       CMSC           425   CMSC425      3.0\n",
      "29     3.265247       CMSC           426   CMSC426      3.0\n",
      "51     2.997495       CMSC           427   CMSC427      3.0\n",
      "24     3.043505       CMSC           430   CMSC430      3.0\n",
      "50     2.865288       CMSC           433   CMSC433      3.0\n",
      "21     3.351107       CMSC           434   CMSC434      3.0\n",
      "22     3.064035       CMSC           435   CMSC435      3.0\n",
      "0      3.209286       CMSC           436   CMSC436      3.0\n",
      "14     2.752008       CMSC           451   CMSC451      3.0\n",
      "61     2.884185       CMSC           452   CMSC452      3.0\n",
      "30     2.366667       CMSC           456   CMSC456      3.0\n",
      "66     2.692779       CMSC           474   CMSC474      3.0\n",
      "62     3.333684       CMSC          498F  CMSC498F      3.0\n",
      "95     3.092500       CMSC          498I  CMSC498I      3.0\n",
      "69     3.071429       CMSC          498J  CMSC498J      NaN\n",
      "64     1.580000       CMSC          498R  CMSC498R      3.0\n",
      "57     3.275862       CMSC          498W  CMSC498W      NaN\n",
      "89     2.460606       CMSC          498Y  CMSC498Y      3.0\n",
      "99     3.847619       CMSC          498Z  CMSC498Z      1.0\n",
      "53     3.917308       CMSC          499A  CMSC499A      1.0\n"
     ]
    }
   ],
   "source": [
    "cmsc_data = requests.get(f\"https://planetterp.com/api/v1/courses?department=CMSC\").json()\n",
    "\n",
    "cmsc_df = pd.DataFrame(cmsc_data)\n",
    "cmsc_df = cmsc_df.sort_values(by=['course_number'])\n",
    "\n",
    "cmsc_df = cmsc_df[cmsc_df['course_number'].str.startswith(('1','2','3','4'))]\n",
    "cmsc_df.drop(columns=['professors', 'description', 'is_recent', 'geneds', 'title'], inplace=True)\n",
    "cmsc_df.dropna(subset=['average_gpa'], inplace=True)\n",
    "\n",
    "average_cmsc_gpa = cmsc_df['average_gpa'].sum() / len(cmsc_df)\n",
    "courses = cmsc_df['name'].values\n",
    "\n",
    "print(average_cmsc_gpa)\n",
    "print(cmsc_df)"
   ]
  },
  {
   "cell_type": "code",
   "execution_count": 17,
   "metadata": {},
   "outputs": [],
   "source": [
    "#For a specific course \n",
    "df = pd.DataFrame()\n",
    "#Takes around 50s for me to run LMFAO\n",
    "for x in courses:\n",
    "    grade_data = requests.get(f\"https://api.planetterp.com/v1/grades?course={x}\").json()\n",
    "\n",
    "    df1 = pd.DataFrame(grade_data)\n",
    "    df1 = df1.groupby(['professor', 'semester']).sum().reset_index()\n",
    "    df1.drop(columns=['section', \"Other\", \"W\"], inplace=True)\n",
    "    df1 = df1.sort_values(by=['semester'])\n",
    "    #print(df1.columns)\n",
    "    df = pd.concat([df1, df])\n",
    "df = df.iloc[::-1]\n",
    "df.drop(columns=['professor', 'course'], inplace=True)\n"
   ]
  },
  {
   "cell_type": "code",
   "execution_count": null,
   "metadata": {},
   "outputs": [
    {
     "name": "stdout",
     "output_type": "stream",
     "text": [
      "   semester    A+     A    A-   B+     B   B-   C+    C   C-  D+    D  D-    F\n",
      "0    201201   117   371   185  122   415  186  101  320  150   6  113  18  128\n",
      "1    201208   117   398   163  182   435  214  154  321  155  31  121  17  132\n",
      "2    201301   141   362   233  174   490  182  126  311  130  33  120  27  125\n",
      "3    201308   165   451   226  206   479  255  151  276  157  14  109  11  137\n",
      "4    201401   155   427   224  184   475  202  145  311  167  20  121  24  106\n",
      "5    201408   138   397   221  184   479  181  123  255  124   1  126  18  101\n",
      "6    201501   102   289   144  158   388  170  129  222  140  14  109  20  143\n",
      "7    201508   316   678   334  387   721  306  284  427  261   5  209  21  244\n",
      "8    201601   199   675   364  385   723  393  273  427  308  20  190  27  202\n",
      "9    201608   327   782   408  495   763  405  335  501  297  20  233  51  232\n",
      "10   201701   308   811   420  465   828  452  378  483  341  33  209  46  173\n",
      "11   201708   327   965   548  540   877  477  374  527  331  20  284  13  249\n",
      "12   201801   339   909   545  568   900  547  458  532  306  12  245  26  227\n",
      "13   201808   367   992   712  614  1015  554  432  580  379  67  189  58  286\n",
      "14   201901   387   843   606  695  1083  577  533  592  367  68  258  26  249\n",
      "15   201908   493  1054   661  757  1042  590  475  591  344  41  247  35  327\n",
      "16   202001   762   942   415  321   309  105   25   22    7   0    1   0  207\n",
      "17   202008   726  1357   744  766  1085  511  440  505  237  45  173  20  220\n",
      "18   202101   970  1254   603  467   610  204  171  175   75  56  105  15  172\n",
      "19   202108   716  1187   829  773  1083  561  425  552  301  47  179  38  259\n",
      "20   202201   577  1232   831  726   973  547  413  515  251  63  159  30  251\n",
      "21   202208   746   447   562  600   317  397  314  139  219  56   13  25  108\n",
      "22   202301   834  1438   911  799   984  562  411  501  258  54  155  33  249\n",
      "23   202308  1236  1818  1078  917   866  633  431  455  289  54  185  17  263\n"
     ]
    }
   ],
   "source": [
    "df = df.sort_values(by=['semester'])\n",
    "df = df.groupby(['semester']).sum().reset_index()\n",
    "print(df)"
   ]
  },
  {
   "cell_type": "code",
   "execution_count": null,
   "metadata": {},
   "outputs": [],
   "source": [
    "#Code if we want to do yearly\n",
    "#df['year'] = df['semester'].astype(str).str[:4]\n",
    "#df = df.groupby('year').sum().reset_index()\n",
    "#df.drop(columns=['semester'], inplace=True)\n",
    "#print(df)"
   ]
  },
  {
   "cell_type": "code",
   "execution_count": null,
   "metadata": {},
   "outputs": [
    {
     "name": "stdout",
     "output_type": "stream",
     "text": [
      "      A+     A    A-   B+     B   B-   C+    C   C-  D+    D  D-    F\n",
      "0    117   371   185  122   415  186  101  320  150   6  113  18  128\n",
      "1    117   398   163  182   435  214  154  321  155  31  121  17  132\n",
      "2    141   362   233  174   490  182  126  311  130  33  120  27  125\n",
      "3    165   451   226  206   479  255  151  276  157  14  109  11  137\n",
      "4    155   427   224  184   475  202  145  311  167  20  121  24  106\n",
      "5    138   397   221  184   479  181  123  255  124   1  126  18  101\n",
      "6    102   289   144  158   388  170  129  222  140  14  109  20  143\n",
      "7    316   678   334  387   721  306  284  427  261   5  209  21  244\n",
      "8    199   675   364  385   723  393  273  427  308  20  190  27  202\n",
      "9    327   782   408  495   763  405  335  501  297  20  233  51  232\n",
      "10   308   811   420  465   828  452  378  483  341  33  209  46  173\n",
      "11   327   965   548  540   877  477  374  527  331  20  284  13  249\n",
      "12   339   909   545  568   900  547  458  532  306  12  245  26  227\n",
      "13   367   992   712  614  1015  554  432  580  379  67  189  58  286\n",
      "14   387   843   606  695  1083  577  533  592  367  68  258  26  249\n",
      "15   493  1054   661  757  1042  590  475  591  344  41  247  35  327\n",
      "16   762   942   415  321   309  105   25   22    7   0    1   0  207\n",
      "17   726  1357   744  766  1085  511  440  505  237  45  173  20  220\n",
      "18   970  1254   603  467   610  204  171  175   75  56  105  15  172\n",
      "19   716  1187   829  773  1083  561  425  552  301  47  179  38  259\n",
      "20   577  1232   831  726   973  547  413  515  251  63  159  30  251\n",
      "21   746   447   562  600   317  397  314  139  219  56   13  25  108\n",
      "22   834  1438   911  799   984  562  411  501  258  54  155  33  249\n",
      "23  1236  1818  1078  917   866  633  431  455  289  54  185  17  263\n"
     ]
    }
   ],
   "source": [
    "#Calculate GPA per semester or year\n",
    "scale = np.array([4.0, 4.0, 3.7, 3.3, 3.0, 2.7, 2.3, 2.0, 1.7, 1.3, 1.0, 0.7, 0.0])\n",
    "grades = df.iloc[:, 1:]\n",
    "print(grades)\n",
    "total_pts = np.dot(grades, scale)\n"
   ]
  },
  {
   "cell_type": "code",
   "execution_count": null,
   "metadata": {},
   "outputs": [
    {
     "name": "stdout",
     "output_type": "stream",
     "text": [
      "   semester    A+     A    A-   B+     B   B-   C+    C   C-  D+    D  D-  \\\n",
      "0    201201   117   371   185  122   415  186  101  320  150   6  113  18   \n",
      "1    201208   117   398   163  182   435  214  154  321  155  31  121  17   \n",
      "2    201301   141   362   233  174   490  182  126  311  130  33  120  27   \n",
      "3    201308   165   451   226  206   479  255  151  276  157  14  109  11   \n",
      "4    201401   155   427   224  184   475  202  145  311  167  20  121  24   \n",
      "5    201408   138   397   221  184   479  181  123  255  124   1  126  18   \n",
      "6    201501   102   289   144  158   388  170  129  222  140  14  109  20   \n",
      "7    201508   316   678   334  387   721  306  284  427  261   5  209  21   \n",
      "8    201601   199   675   364  385   723  393  273  427  308  20  190  27   \n",
      "9    201608   327   782   408  495   763  405  335  501  297  20  233  51   \n",
      "10   201701   308   811   420  465   828  452  378  483  341  33  209  46   \n",
      "11   201708   327   965   548  540   877  477  374  527  331  20  284  13   \n",
      "12   201801   339   909   545  568   900  547  458  532  306  12  245  26   \n",
      "13   201808   367   992   712  614  1015  554  432  580  379  67  189  58   \n",
      "14   201901   387   843   606  695  1083  577  533  592  367  68  258  26   \n",
      "15   201908   493  1054   661  757  1042  590  475  591  344  41  247  35   \n",
      "16   202001   762   942   415  321   309  105   25   22    7   0    1   0   \n",
      "17   202008   726  1357   744  766  1085  511  440  505  237  45  173  20   \n",
      "18   202101   970  1254   603  467   610  204  171  175   75  56  105  15   \n",
      "19   202108   716  1187   829  773  1083  561  425  552  301  47  179  38   \n",
      "20   202201   577  1232   831  726   973  547  413  515  251  63  159  30   \n",
      "21   202208   746   447   562  600   317  397  314  139  219  56   13  25   \n",
      "22   202301   834  1438   911  799   984  562  411  501  258  54  155  33   \n",
      "23   202308  1236  1818  1078  917   866  633  431  455  289  54  185  17   \n",
      "\n",
      "      F  total  average_gpa  \n",
      "0   128   2232     2.709229  \n",
      "1   132   2440     2.696475  \n",
      "2   125   2454     2.740139  \n",
      "3   137   2637     2.808722  \n",
      "4   106   2561     2.787036  \n",
      "5   101   2348     2.825468  \n",
      "6   143   2028     2.643540  \n",
      "7   244   4193     2.780634  \n",
      "8   202   4186     2.767272  \n",
      "9   232   4849     2.791029  \n",
      "10  173   4947     2.823550  \n",
      "11  249   5532     2.836678  \n",
      "12  227   5614     2.845778  \n",
      "13  286   6245     2.842594  \n",
      "14  249   6284     2.810471  \n",
      "15  327   6657     2.859381  \n",
      "16  207   3116     3.445347  \n",
      "17  220   6829     3.063069  \n",
      "18  172   4877     3.302871  \n",
      "19  259   6950     3.000547  \n",
      "20  251   6568     3.010186  \n",
      "21  108   3943     3.127086  \n",
      "22  249   7189     3.087912  \n",
      "23  263   8242     3.178537  \n"
     ]
    }
   ],
   "source": [
    "df['total'] = df[['A+', 'A', 'A-', 'B+', 'B', 'B-', 'C+', 'C', 'C-', 'D+', 'D', 'D-', 'F']].sum(axis=1)\n",
    "df['average_gpa'] = total_pts / df['total'].values\n",
    "print(df)\n",
    "\n",
    "#after this point we prob do graphs, can reuse code for other departments now"
   ]
  }
 ],
 "metadata": {
  "kernelspec": {
   "display_name": "Python 3",
   "language": "python",
   "name": "python3"
  },
  "language_info": {
   "codemirror_mode": {
    "name": "ipython",
    "version": 3
   },
   "file_extension": ".py",
   "mimetype": "text/x-python",
   "name": "python",
   "nbconvert_exporter": "python",
   "pygments_lexer": "ipython3",
   "version": "3.11.5"
  }
 },
 "nbformat": 4,
 "nbformat_minor": 2
}
